{
  "nbformat": 4,
  "nbformat_minor": 0,
  "metadata": {
    "colab": {
      "provenance": [],
      "authorship_tag": "ABX9TyPcgBgEYC4Y2M6EP0aCc9Bv",
      "include_colab_link": true
    },
    "kernelspec": {
      "name": "python3",
      "display_name": "Python 3"
    },
    "language_info": {
      "name": "python"
    }
  },
  "cells": [
    {
      "cell_type": "markdown",
      "metadata": {
        "id": "view-in-github",
        "colab_type": "text"
      },
      "source": [
        "<a href=\"https://colab.research.google.com/github/almeidajana/sistema_gestao_notas/blob/main/Sistema_gestao_notas_alunos.ipynb\" target=\"_parent\"><img src=\"https://colab.research.google.com/assets/colab-badge.svg\" alt=\"Open In Colab\"/></a>"
      ]
    },
    {
      "cell_type": "code",
      "execution_count": null,
      "metadata": {
        "id": "gqBM0u7zbnCt",
        "colab": {
          "base_uri": "https://localhost:8080/"
        },
        "outputId": "4ae5f4c9-2ae7-46b6-b56e-c11f5542c8da"
      },
      "outputs": [
        {
          "output_type": "stream",
          "name": "stdout",
          "text": [
            "Insira a nota do aluno. Para finalizar, digite'sair'8\n",
            "Insira a nota do aluno. Para finalizar, digite'sair'9.6\n",
            "Insira a nota do aluno. Para finalizar, digite'sair'10\n",
            "Insira a nota do aluno. Para finalizar, digite'sair'7.6\n",
            "Insira a nota do aluno. Para finalizar, digite'sair'8.5\n",
            "Insira a nota do aluno. Para finalizar, digite'sair'9.4\n",
            "Insira a nota do aluno. Para finalizar, digite'sair'6.8\n",
            "Insira a nota do aluno. Para finalizar, digite'sair'sair\n",
            "As notas do aluno são:\n",
            "[8.0, 9.6, 10.0, 7.6, 8.5, 9.4, 6.8]\n"
          ]
        }
      ],
      "source": [
        "# Sistema de gestão de notas dos alunos da Turma de Programação do curso de Análise e Desenvolvimento de Sistemas.\n",
        "\n",
        "notas = []\n",
        "\n",
        "while True:\n",
        "  entrada = input(\"Insira a nota do aluno. Para finalizar, digite'sair'\") # O professor deve inserir as notas que o aluno obteve ao longo do semestre.\n",
        "\n",
        "  if entrada == 'sair':\n",
        "    break   # Quando o professor finalizar as notas a serem inseridas, ele finaliza com o comando 'sair'.\n",
        "\n",
        "  nota = float(entrada)\n",
        "  notas.append(nota)\n",
        "\n",
        "print('As notas do aluno são:')\n",
        "print(notas) # Aqui, a lista armazena as notas do aluno."
      ]
    },
    {
      "cell_type": "code",
      "source": [
        "# Agora, será feito o cálculo da média da nota do aluno.\n",
        "\n",
        "def calcular_media(notas):\n",
        "  total = sum(notas)\n",
        "  media = total / len(notas)\n",
        "  return media\n",
        "\n",
        "arredondar_media = lambda media: round(media, 2) # Aqui é usada a função anônima para arredondar a nota em duas casas decimais.\n",
        "\n",
        "media = calcular_media(notas)\n",
        "media_arredondada = arredondar_media(media)\n",
        "\n",
        "print(f'A média do aluno é: {media_arredondada}') # Aqui teremos o cálculo da média do aluno.\n",
        "\n",
        "if media >= 7:\n",
        "  print('Situação do aluno: Aprovado')\n",
        "else:\n",
        "  print('Situação do aluno: Reprovado')\n"
      ],
      "metadata": {
        "colab": {
          "base_uri": "https://localhost:8080/"
        },
        "id": "URUlRy8qscDn",
        "outputId": "fd9f5117-9fb8-41c0-bcd6-c3b15639051d"
      },
      "execution_count": null,
      "outputs": [
        {
          "output_type": "stream",
          "name": "stdout",
          "text": [
            "A média do aluno é: 8.56\n",
            "Situação do aluno: Aprovado\n"
          ]
        }
      ]
    },
    {
      "cell_type": "code",
      "source": [
        "# Relatório final que exibe todas as informações para o docente.\n",
        "\n",
        "print('As notas do aluno são:')\n",
        "print(notas)\n",
        "\n",
        "print(f'A média do aluno é: {media_arredondada}')\n",
        "\n",
        "if media >= 7:\n",
        "  print('Situação do aluno: Aprovado')\n",
        "else:\n",
        "  print('Situação do aluno: Reprovado')\n"
      ],
      "metadata": {
        "colab": {
          "base_uri": "https://localhost:8080/"
        },
        "collapsed": true,
        "id": "OTBKlRArgnba",
        "outputId": "3ef42d75-9416-4616-af65-98892f7198b9"
      },
      "execution_count": null,
      "outputs": [
        {
          "output_type": "stream",
          "name": "stdout",
          "text": [
            "As notas do aluno são:\n",
            "[8.0, 9.6, 10.0, 7.6, 8.5, 9.4, 6.8]\n",
            "A média do aluno é: 8.56\n",
            "Situação do aluno: Aprovado\n"
          ]
        }
      ]
    }
  ]
}